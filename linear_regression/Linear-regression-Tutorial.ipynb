{
 "cells": [
  {
   "cell_type": "markdown",
   "id": "49f81eca",
   "metadata": {},
   "source": [
    "<h2>Content of the Notebook</h2>\n",
    "<pre>\n",
    "* <a href=\"#intro\">Introduction to linear regression</a>\n",
    "* <a href=\"#OLS\">OLS(odinary least squared method)</a>\n",
    "* <a href=\"#Math\">Maths behind OLS</a>\n",
    "* <a href='#Ass'>Steps And Assumption of Linear Regression</a>\n",
    "* <a href='#Code'>Code for Linear Regression</a>\n",
    "</pre>\n"
   ]
  },
  {
   "cell_type": "markdown",
   "id": "cf090bf7",
   "metadata": {},
   "source": [
    "<H1><center>Linear Regression</center></H1>\n",
    "<h3 id='intro'>Introduction to linear regression</h3>\n",
    "<pre>\n",
    "Linear Regression is a Supervised Machine-Learning Algorithm\n",
    "Linear Regression is Parametric model as in we have pre-defined assumption that we would have to satisfy while making the model.\n",
    "\n",
    "<li><b>Why do we need Linear regression?</b></li>\n",
    "Previously when we needed to predict any <b>Y</b> values we used to just takes the mean of the previous <b>y </b>data and just put it there as a prediction \n",
    "<h4>This model is also called as the <b>mean model</b></h4>\n",
    "Lets see mean model with an example\n",
    "<b>Example:-</b>Suppose these are the wieghts of the babies predict values using the mean model\n",
    "<table align ='left'>\n",
    "<th>Weight</th>\n",
    "<tr><td>2.5</td><tr>\n",
    "<tr><td>3</td><tr>\n",
    "<tr><td>2</td><tr>\n",
    "<tr><td>3</td><tr>\n",
    "<tr><td>2.7</td><tr>\n",
    "<tr><td>?</td><tr>\n",
    "</table>\n",
    "\n",
    "</ul>\n",
    "\n",
    "</pre>\n",
    "The mean of these datapoints are 2.9 and it would be really fine if we have to predict one value by using the mean model but what if.... we have multiple wieghts of the babies to predict\n",
    "<pre>\n",
    "<table align ='left'>\n",
    "<th>Weight</th>\n",
    "<tr><td>2.5</td><tr>\n",
    "<tr><td>3</td><tr>\n",
    "<tr><td>2</td><tr>\n",
    "<tr><td>3</td><tr>\n",
    "<tr><td>2.7</td><tr>\n",
    "<tr><td>?</td><tr>\n",
    "<tr><td>?</td><tr>\n",
    "<tr><td>?</td><tr>\n",
    "</table>\n",
    "</pre>\n",
    "<pre>\n",
    "we can't put one value ie the mean value to predict all these values it would be wrong cuz every baby wont have the weight\n",
    "if its one or values the mean model would work\n",
    "so for mass prediction of values the mean model will fail \n",
    "</pre>\n",
    "more infrence on mean model"
   ]
  },
  {
   "cell_type": "markdown",
   "id": "c6630a77",
   "metadata": {},
   "source": [
    "<img src='Images/Mean_model.jpeg' height=\"288\"  width=\"588\">"
   ]
  },
  {
   "cell_type": "markdown",
   "id": "4765e3ab",
   "metadata": {},
   "source": [
    "so when we realized the mean model is not good model so thats when we started looking at possiblity like the weight of the baby must be or can be dependent on other factors like the age so as the age of babies increase the wieght would automatically increase so thats how we came up with regression model\n",
    "lets assume the same previous data jus with agemof the babies included\n",
    "<table align ='left'>\n",
    "\n",
    "   <th>Age</th> <th>Weight</th>\n",
    "<tr><td>1</td><td>2.5</td><tr>\n",
    "<tr><td>2</td><td>3</td><tr>\n",
    "<tr><td>0.8</td><td>2</td><tr>\n",
    "<tr><td>2</td><td>3</td><tr>\n",
    "<tr><td>1.8</td><td>2.7</td><tr>\n",
    "<tr><td>1.9</td><td>?</td><tr>\n",
    "<tr><td>2</td><td>?</td><tr>\n",
    "<tr><td>3.5</td><td>?</td><tr>\n",
    "</table>`"
   ]
  },
  {
   "cell_type": "markdown",
   "id": "016345a4",
   "metadata": {},
   "source": [
    "<img src='Images/graph_of_lr_1.jpeg' height=\"288\"  width=\"588\">"
   ]
  },
  {
   "cell_type": "markdown",
   "id": "d6077088",
   "metadata": {},
   "source": [
    "<pre>The data points are more far away from the mean line ie y bar line.\n",
    "Where as  The data point are closer to slant or regression line that we drew and here for a different x value we would have a different y value so the prediction are not the same for the all the data points.\n",
    "So.. \n",
    "<ul>\n",
    "<li>What is regression?</li>\n",
    "Regression is a technique used to measure the relationship between the independent variable and the dependent variable\n",
    "\n",
    "<li>How to identify  a regression problem ?</li>\n",
    "In the regression problem the y-variable would allways be a <b>continous numerical value</b>\n",
    "<li>what is a linear regression </li>\n",
    "Linear regressio is when you have a linear relationship between the data point ie we can predict the data points using a straight slant line\n",
    "<div style='border-style: solid;'>\n",
    "There are <b>two</b> types of Linear regression model\n",
    "<li style='color:red;'>Simple Linear regression:-</li>In simple linear regression we have only one independent variable ie same as the age and the weight example where age was our one independent variable\n",
    "<li style='color:red;'>Multi Linear regression:-</li> In multi Linear regression we have more than one independent variable \n",
    "<b>Example</b> if we have to predict the weight of the baby with age,food_intake_everyday(kcals) etc.\n",
    "There are <b>Two </b> methods to predict a linear regression model\n",
    "<li style='color:blue;'>OLS(Ordinary least squares):-</li>\n",
    "ols uses the entire dataset to calculate the value of <b>m and c</b> using a single formula for m and c\n",
    "OLS is computationally efficient and easy to implement, but can be sensitive to outliers and may not work well with large datasets. as it only computes the entire thing using a single formula\n",
    "<li style='color:blue;'>SGD(Stochkistic Gradient decent model):-</li>\n",
    "sgd on the other data is an iterative model and it updates the value of m and c using derivatives and learning rates and MSE(mean sq error) \n",
    "SGD is computationally more efficient than OLS for large datasets, but may require more iterations to converge to the optimal solution.\n",
    "SGD Requires sclaing\n",
    "            \n",
    "    <b>NOTE</b>:-SGD and OLS both work on two different mathemalical function and both do not have any relation while calculating the constants ie <b>m and c</b> </div>\n",
    "            \n",
    "</ul>\n",
    "</pre>"
   ]
  },
  {
   "cell_type": "markdown",
   "id": "d1b334c3",
   "metadata": {},
   "source": [
    "<h2 ><CENTER id=\"OLS\">OLS(Ordinary least squares)</CENTER></h2>\n",
    "<pre>\n",
    "OLS method is a statistical method where we will try to make the error minimum\n",
    "<b>Note</b>:-Ols does not do a trail and error or repetitive method we just do basic calculation here\n",
    "So basically we use the line equation to predict the y value ie\n",
    "<b>y=mx+c</b>\n",
    "where m and c are constants\n",
    "Lets see the maths behind OLS Model\n",
    "</pre>\n",
    "<h2><CENTER id='Math'>Math behind OLS(Ordinary least squares)</CENTER></h2>"
   ]
  },
  {
   "cell_type": "markdown",
   "id": "63948e48",
   "metadata": {},
   "source": [
    "In the bellow image we are Exploring the Linear regression Formulae in detail.\n",
    "how is starting value of m and c calclated?\n",
    "* m and c can be calculated using the mean of independent variable and  c as zero\n",
    "* simple linear regression formula to calculate an initial estimate of m and c"
   ]
  },
  {
   "cell_type": "markdown",
   "id": "38e8d56a",
   "metadata": {},
   "source": [
    "<img src=\"Images/Photo from Karthik.jpg\"  height=\"288\"  width=\"588\">"
   ]
  },
  {
   "cell_type": "markdown",
   "id": "b5894631",
   "metadata": {},
   "source": [
    "<ul>\n",
    "<h4>Formulae for simple Linear regression</h4>\n",
    "<li>Simple Linear Regression:-</li>\n",
    "    <b>Formulae</b>:-    Y=mx+c\n",
    "<li>Multi Linear Regression:-</li>\n",
    "    <b>Formulae</b>:-    Y=m1x+m2x+m3x+c\n",
    "</ul>"
   ]
  },
  {
   "cell_type": "markdown",
   "id": "031b59c6",
   "metadata": {},
   "source": [
    "* Now we are gonna understand the maths of Linear regression with an example"
   ]
  },
  {
   "cell_type": "markdown",
   "id": "ae412c4d",
   "metadata": {},
   "source": [
    "in the bellow image we see how to get values of b1 and b0 "
   ]
  },
  {
   "cell_type": "markdown",
   "id": "4328b424",
   "metadata": {},
   "source": [
    "<img src=\"Images/Maths_behind_Linear regression.jpg\" height=\"288\"  width=\"588\">"
   ]
  },
  {
   "cell_type": "markdown",
   "id": "8f7999a3",
   "metadata": {},
   "source": [
    "<img src=\"Images/GRAPH_IMAGE_OF_LR.jpeg\" height=\"288\"  width=\"588\">"
   ]
  },
  {
   "cell_type": "markdown",
   "id": "05fc23d0",
   "metadata": {},
   "source": [
    "<pre>\n",
    "Linear regression is a <b>Parametric model</b>.\n",
    "<b>Parametric model</b> is any model that captures all the information about its predictions within a finite set of Asumption.\n",
    "<h2><b><center id=\"Ass\" >Steps And Assumption of Linear Regression</center></b></h2>\n",
    "1. <a href=\"#Create\">Importing modules and Create the dataframe properly-->pd.read_csv(),pd.read_excel()</a>\n",
    "2. <a href=\"#exploration\">Data Exploration</a>\n",
    "3. <a href=\"#processing\">Preprocessing the data:</a>\n",
    "\ta. Feature selection-->domain knowledge,drop()\n",
    "\tb. Handling missing values-->isnull().sum(),fillna(),dropna()\n",
    "3.<a href='#Outlier'> Assumption 1: There should be no outliers in the data-->boxplot()</a>\n",
    "4. <a href ='#Linearity'>Assumption 2: Assumption of Linearity:Every ind var should have a linear relationship with the dep var-->pairplot()</a>\n",
    "5. <a href='#Seprating'>Create X and Y-->X=ind var, Y=dep var</a>\n",
    "6.<a href=\"#Normality\"> Assumption 3: Assumption of Normality: The dependent variable should follow an approximate normal distribtion-->distplot(),log()</a>\n",
    "7. <a href='#Checking'>Checking and handling the skewness in the X vars-->skew(),hist(),log1p()</a>\n",
    "8. <a href='#colinearity'>Assumption 4: Assumption of no multicollinearity: There should be no multicollinearity between the independent variables-->corr(),heatmap(),vif(),drop()</a>\n",
    "9. <a href='#Splitting'>Splitting the data into train and test(validation)-->train_test_split()</a>\n",
    "10. <a href='#model'>Building the model:</a>\n",
    "\ta. Create the model-->obj=AlgoName()\n",
    "\tb. Train the model-->obj.fit(X_train, Y_train)\n",
    "\tc. Predict using the model-->Y_pred=obj.predict(X_test)\n",
    "11. <a href='#Evaluating'>Evaluating the model:</a>\n",
    "\tR-squared, Adj R-squared, RMSE, AIC/BIC\n",
    "12. <a href='#Durbin'>Assumption 5: There should be no auto-correlation in the data-->Durbin Watson test</a>\n",
    "13.<a href='#Residual'> Assumption 6: Errors should be random-->Fitted v/s Residual plot</a>\n",
    "14.<a href='#approx'> Assumption 7: Errors should follow an approx normal distribution-->Normal QQ plot</a>\n",
    "15. <a href=\"#variance\">Assumption 8: Errors should should follow a constant variance(Homoskedasticity)-->Scale Location plot</a>\n",
    "16. <a href='#Tuning'>Tuning the model</a>\n",
    "l:\n",
    "\ta. Feature selection-->p-values,domain knowledge\n",
    "\tb. Regularization techniques-->Ridge(), Lasso()\n",
    "\tc. Stochastic Gradient Descent-->SGDRegressor()\n",
    "17. <a href='#statsmodule'>Linear regression using statsmodule</a>\n",
    "</pre>"
   ]
  },
  {
   "cell_type": "markdown",
   "id": "c5c8787b",
   "metadata": {},
   "source": [
    "<h2 ><center id=\"Code\"> Code for Linear Regression</center></h2>"
   ]
  },
  {
   "cell_type": "markdown",
   "id": "a8972375",
   "metadata": {},
   "source": [
    "<div id='Create'><h4 > Step 1:-Importing Modules</h3></div>"
   ]
  },
  {
   "cell_type": "code",
   "execution_count": 1,
   "id": "fca38f5d",
   "metadata": {},
   "outputs": [],
   "source": [
    "import numpy as np\n",
    "import matplotlib.pyplot as plt\n",
    "import seaborn as sns\n",
    "import pandas as pd "
   ]
  },
  {
   "cell_type": "markdown",
   "id": "47d50971",
   "metadata": {},
   "source": [
    "#### Step 2:-Reading the Dataframe"
   ]
  },
  {
   "cell_type": "code",
   "execution_count": 4,
   "id": "cbb25529",
   "metadata": {},
   "outputs": [
    {
     "data": {
      "text/html": [
       "<div>\n",
       "<style scoped>\n",
       "    .dataframe tbody tr th:only-of-type {\n",
       "        vertical-align: middle;\n",
       "    }\n",
       "\n",
       "    .dataframe tbody tr th {\n",
       "        vertical-align: top;\n",
       "    }\n",
       "\n",
       "    .dataframe thead th {\n",
       "        text-align: right;\n",
       "    }\n",
       "</style>\n",
       "<table border=\"1\" class=\"dataframe\">\n",
       "  <thead>\n",
       "    <tr style=\"text-align: right;\">\n",
       "      <th></th>\n",
       "      <th>TV</th>\n",
       "      <th>radio</th>\n",
       "      <th>newspaper</th>\n",
       "      <th>sales</th>\n",
       "    </tr>\n",
       "  </thead>\n",
       "  <tbody>\n",
       "    <tr>\n",
       "      <th>1</th>\n",
       "      <td>230.1</td>\n",
       "      <td>37.8</td>\n",
       "      <td>69.2</td>\n",
       "      <td>22.1</td>\n",
       "    </tr>\n",
       "    <tr>\n",
       "      <th>2</th>\n",
       "      <td>44.5</td>\n",
       "      <td>39.3</td>\n",
       "      <td>45.1</td>\n",
       "      <td>10.4</td>\n",
       "    </tr>\n",
       "    <tr>\n",
       "      <th>3</th>\n",
       "      <td>17.2</td>\n",
       "      <td>45.9</td>\n",
       "      <td>69.3</td>\n",
       "      <td>9.3</td>\n",
       "    </tr>\n",
       "    <tr>\n",
       "      <th>4</th>\n",
       "      <td>151.5</td>\n",
       "      <td>41.3</td>\n",
       "      <td>58.5</td>\n",
       "      <td>18.5</td>\n",
       "    </tr>\n",
       "    <tr>\n",
       "      <th>5</th>\n",
       "      <td>180.8</td>\n",
       "      <td>10.8</td>\n",
       "      <td>58.4</td>\n",
       "      <td>12.9</td>\n",
       "    </tr>\n",
       "  </tbody>\n",
       "</table>\n",
       "</div>"
      ],
      "text/plain": [
       "      TV  radio  newspaper  sales\n",
       "1  230.1   37.8       69.2   22.1\n",
       "2   44.5   39.3       45.1   10.4\n",
       "3   17.2   45.9       69.3    9.3\n",
       "4  151.5   41.3       58.5   18.5\n",
       "5  180.8   10.8       58.4   12.9"
      ]
     },
     "execution_count": 4,
     "metadata": {},
     "output_type": "execute_result"
    }
   ],
   "source": [
    "df=pd.read_csv(r\"Files/Advertising.csv\",index_col=0)\n",
    "df.head()"
   ]
  },
  {
   "cell_type": "markdown",
   "id": "5ab00bf1",
   "metadata": {},
   "source": [
    "#### Step 3:-EDA"
   ]
  },
  {
   "cell_type": "markdown",
   "id": "1443022f",
   "metadata": {},
   "source": [
    "<div id ='exploration'><h4>A) Data exploration</h4></div>"
   ]
  },
  {
   "cell_type": "code",
   "execution_count": null,
   "id": "b5600758",
   "metadata": {
    "scrolled": true
   },
   "outputs": [],
   "source": [
    "print(df.dtypes)"
   ]
  },
  {
   "cell_type": "markdown",
   "id": "a9998f45",
   "metadata": {},
   "source": [
    "<b>Insights</b>:- All columns are numerical"
   ]
  },
  {
   "cell_type": "code",
   "execution_count": null,
   "id": "18683d50",
   "metadata": {},
   "outputs": [],
   "source": [
    "sh=df.shape\n",
    "print(\"Rows:- \",sh[0],\" Columns:- \",sh[1])"
   ]
  },
  {
   "cell_type": "code",
   "execution_count": null,
   "id": "ea3b9b2c",
   "metadata": {},
   "outputs": [],
   "source": [
    "print(df.describe())"
   ]
  },
  {
   "cell_type": "markdown",
   "id": "aadd3ac3",
   "metadata": {},
   "source": [
    "<b>Insights</b>:-\n",
    "   * Looking at the mean TV advertisements look the most costliest.\n",
    "   * In certain months companies didnt even invest in Radio so thats why thier minimium value is 0."
   ]
  },
  {
   "cell_type": "markdown",
   "id": "4744624f",
   "metadata": {},
   "source": [
    "<div id='processing'><h4> B)Data Pre-processing</h4>"
   ]
  },
  {
   "cell_type": "markdown",
   "id": "093b709a",
   "metadata": {},
   "source": [
    "#### i) Data cleaning"
   ]
  },
  {
   "cell_type": "markdown",
   "id": "ba6be1c5",
   "metadata": {},
   "source": [
    "#### Checking the missing value"
   ]
  },
  {
   "cell_type": "code",
   "execution_count": null,
   "id": "38f2b31d",
   "metadata": {},
   "outputs": [],
   "source": [
    "df.isna().sum()"
   ]
  },
  {
   "cell_type": "markdown",
   "id": "3053fb4a",
   "metadata": {},
   "source": [
    "<b>Insights</b>:-no missing values"
   ]
  },
  {
   "cell_type": "markdown",
   "id": "a35e8904",
   "metadata": {},
   "source": [
    "<div id='Outlier'><h4>Assumption(for every model):- Checking For Outlier</h4></div>"
   ]
  },
  {
   "cell_type": "code",
   "execution_count": null,
   "id": "1727fc6f",
   "metadata": {
    "scrolled": true
   },
   "outputs": [],
   "source": [
    "for i in df.columns:\n",
    "    df.boxplot(column=i)\n",
    "    plt.show()"
   ]
  },
  {
   "cell_type": "markdown",
   "id": "693073ad",
   "metadata": {},
   "source": [
    "<b>Insights</b>:-Only Newspaper columns have outliers in it."
   ]
  },
  {
   "cell_type": "markdown",
   "id": "ec87a73e",
   "metadata": {},
   "source": [
    "<pre>\n",
    "These Outliers are very close to the wisker lines so they are not extreme outliers so i have decided to keep it\n",
    "BUT ... if a variable shows extreme outliers we can either eleminate them or treat them before we proceed further.</pre>"
   ]
  },
  {
   "cell_type": "markdown",
   "id": "54cba864",
   "metadata": {},
   "source": [
    "<div id='Linearity'><B>Assumption 1 :-</B>There should be a linear relationship between the independent variable, x, and the dependent variable, y.\n",
    "<b>Note:-</b>if the  data does not follow a linear relaionship then drop the algorithium ie change it</div>"
   ]
  },
  {
   "cell_type": "code",
   "execution_count": null,
   "id": "5e5cd78b",
   "metadata": {},
   "outputs": [],
   "source": [
    "sns.pairplot(df,x_vars=['TV','radio','newspaper'],\n",
    "            y_vars='sales',kind='reg')\n",
    "plt.show()"
   ]
  },
  {
   "cell_type": "markdown",
   "id": "2af238a8",
   "metadata": {},
   "source": [
    "<pre>\n",
    "<b>1) TV:-</b>STRONG CO-RELATION +VE\n",
    "<b>2) RADIO:-</b>SOUGHTS OF CO-RELATION +VE\n",
    "<b>3) NEWSPAPER:-</b>THE DATA IS SCATTER SO ITS BETTER TO eliminate THIS COLUMN\n",
    "<b>Note:-</b> if you have a column that is important but it doesnt have much co-relation the switch ur algorithm....\n",
    "</pre>"
   ]
  },
  {
   "cell_type": "markdown",
   "id": "df12a141",
   "metadata": {},
   "source": [
    "<div id ='Seprating'><h4>Seprating x(independent variable) and y(dependent variable)</h4></div>"
   ]
  },
  {
   "cell_type": "code",
   "execution_count": null,
   "id": "196166ee",
   "metadata": {},
   "outputs": [],
   "source": [
    "x=df[['TV', 'radio', 'newspaper']]\n",
    "y=df['sales']\n",
    "# x=df.iloc[:,0:-1]"
   ]
  },
  {
   "cell_type": "code",
   "execution_count": null,
   "id": "fd5bb911",
   "metadata": {},
   "outputs": [],
   "source": [
    "print(x.shape)\n",
    "#ie x has 200 rows and 3 columns\n",
    "print(y.shape)\n",
    "#ie y has only 200 rows"
   ]
  },
  {
   "cell_type": "markdown",
   "id": "5b92fab4",
   "metadata": {},
   "source": [
    "<div id='Normality'><h4>Assumption:-Checking for Normal Distribution</h4></div>"
   ]
  },
  {
   "cell_type": "code",
   "execution_count": null,
   "id": "786d51ee",
   "metadata": {},
   "outputs": [],
   "source": [
    "sns.distplot(y)\n",
    "plt.show()"
   ]
  },
  {
   "cell_type": "markdown",
   "id": "16a8bedc",
   "metadata": {},
   "source": [
    "<B>Insights</B>:-Y is Normally distributed "
   ]
  },
  {
   "cell_type": "code",
   "execution_count": null,
   "id": "4fab36d3",
   "metadata": {},
   "outputs": [],
   "source": [
    "##If not normally distributed then we will apply Log Transformation\n",
    "# import numpy as np\n",
    "# y_log=np.log(y)"
   ]
  },
  {
   "cell_type": "markdown",
   "id": "c249166e",
   "metadata": {},
   "source": [
    "<div><h4 id='Checking'>Checking and handling the skewness in the X vars</h4?</div>"
   ]
  },
  {
   "cell_type": "code",
   "execution_count": null,
   "id": "4bdd0265",
   "metadata": {},
   "outputs": [],
   "source": [
    "\n",
    "for itr in x.columns:\n",
    "    sns.distplot(df[itr],bins=20)\n",
    "    plt.show()"
   ]
  },
  {
   "cell_type": "markdown",
   "id": "c2975a0c",
   "metadata": {},
   "source": [
    "<pre><b>Insights</b>:-\n",
    "    Here radio,TV are normally distributed \n",
    "    newspaper is right skewed\n",
    "    </pre>"
   ]
  },
  {
   "cell_type": "code",
   "execution_count": null,
   "id": "e6a867f1",
   "metadata": {},
   "outputs": [],
   "source": [
    "from scipy.stats import skew\n",
    "#we are just doing it cuz its a good practice its not an assumption\n",
    "#finding the skewness in each variable\n",
    "data_num_skew = x.apply(lambda i: skew(i.dropna()))\n",
    "#subsetting the variables that are highly skewed\n",
    "data_num_skewed = data_num_skew[(data_num_skew > .75) | (data_num_skew < -.75)]\n",
    " \n",
    "print(data_num_skew)\n",
    "print(data_num_skewed)\n",
    "import numpy as np\n",
    "# apply log + 1 transformation for all numeric features with skewness over .75 to avoid infinty values in case of 0 values\n",
    "x[data_num_skewed.index] = np.log1p(x[data_num_skewed.index])"
   ]
  },
  {
   "cell_type": "markdown",
   "id": "bda98d46",
   "metadata": {},
   "source": [
    "<b>Insights</b>:-log1p is better cuz it doesnt make log(0) as inf "
   ]
  },
  {
   "cell_type": "markdown",
   "id": "ddc568e9",
   "metadata": {},
   "source": [
    "<b>Assumption 2:-</b> Multi-Colinearity ie Every independent column is independent of each other"
   ]
  },
  {
   "cell_type": "code",
   "execution_count": null,
   "id": "ae082267",
   "metadata": {},
   "outputs": [],
   "source": [
    "corr=x.corr()\n",
    "sns.heatmap(corr,vmax=1,vmin=-1,annot=True)\n",
    "plt.show()"
   ]
  },
  {
   "cell_type": "markdown",
   "id": "867a148d",
   "metadata": {},
   "source": [
    "if the correlation values is less than -0.75 and greater than 0.75 we will delete one column"
   ]
  },
  {
   "cell_type": "markdown",
   "id": "44a85042",
   "metadata": {},
   "source": [
    "<div id='colinearity'><h4>Checking for multi-colinearity(2nd method)</h4></div>"
   ]
  },
  {
   "cell_type": "markdown",
   "id": "3890f2b4",
   "metadata": {},
   "source": [
    "* VIF(variance inflation factor):-\n",
    "<pre>\n",
    "<b>Threshold:-greater than 10 or 5</b>\n",
    "    <u>for eg</u>:-['TV', 'radio', 'newspaper']\n",
    "        so in first itr \n",
    "        it will take ['TV', 'radio'] as independent variable and ['newspaper'] as dependent variable \n",
    "        then we run a linear regression and calculae the r square value of it \n",
    "    <b>Formula:-</b><i>vif=1/1-r square</i>\n",
    "        higher the vif factor that element is eliminated first\n",
    "        then we repeat the process again \n",
    "</pre>"
   ]
  },
  {
   "cell_type": "markdown",
   "id": "58a0024e",
   "metadata": {},
   "source": [
    "<img src=\"Images/VIF.jpeg\"  height=\"288\"  width=\"588\">"
   ]
  },
  {
   "cell_type": "code",
   "execution_count": null,
   "id": "7648b67e",
   "metadata": {
    "scrolled": true
   },
   "outputs": [],
   "source": [
    "#VIF\n",
    "from statsmodels.stats.outliers_influence import variance_inflation_factor as vif\n",
    "vif_df = pd.DataFrame()\n",
    "vif_df[\"features\"] = x.columns\n",
    "vif_df[\"VIF Factor\"] = [vif(x.values, i) for i in range(x.shape[1])]\n",
    "vif_df.round(2)\n",
    "#As newspaper variable are greater than 5 so we will drop or we can elimate  we will eleminate in the later stage\n",
    "\n",
    "#X.drop(\"newspaper\",axis=1,inplace=True)\n",
    "#re-run the VIF code"
   ]
  },
  {
   "cell_type": "markdown",
   "id": "5c50540c",
   "metadata": {},
   "source": [
    "<div id ='Splitting'><h4>We are spliting the data into train and test split</h4></div>"
   ]
  },
  {
   "cell_type": "code",
   "execution_count": null,
   "id": "3edfdfc1",
   "metadata": {},
   "outputs": [],
   "source": [
    "#We are spliting the data into train and test split\n",
    "from sklearn.model_selection import  train_test_split\n",
    "x_train,x_test,y_train,y_test=train_test_split(x,y,test_size=0.2,random_state=10)\n",
    "#We are spliting the data into train and test split\n",
    "#Here the test size is 0.2 ie training has 80% data and testing has 20% data \n",
    "from sklearn.model_selection import  train_test_split\n",
    "x_train,x_test,y_train,y_test=train_test_split(x,y,test_size=0.2,random_state=10)\n",
    "print(x_train.shape)\n",
    "print(y_train.shape)\n",
    "print(x_test.shape)\n",
    "print(y_test.shape)\n",
    "#Here the test size is 0.2 ie training has 80% data and testing has 20% data \n",
    "from sklearn.model_selection import  train_test_split\n",
    "x_train,x_test,y_train,y_test=train_test_split(x,y,test_size=0.2,random_state=10)\n",
    "print(x_train.shape)\n",
    "print(y_train.shape)\n",
    "print(x_test.shape)\n",
    "print(y_test.shape)"
   ]
  },
  {
   "cell_type": "markdown",
   "id": "da501005",
   "metadata": {},
   "source": [
    "<div id='model'><h4> Creating a model:-getting the intercept and coefficient values as output ie m and c values</h4></div>"
   ]
  },
  {
   "cell_type": "code",
   "execution_count": null,
   "id": "4e5640f9",
   "metadata": {},
   "outputs": [],
   "source": [
    "from sklearn.linear_model import LinearRegression\n",
    "lm=LinearRegression()\n",
    "#train the model\n",
    "lm.fit(x_train,y_train)\n",
    "print(lm.intercept_)\n",
    "print(lm.coef_)\n",
    "print(list(zip(x.columns,lm.coef_)))"
   ]
  },
  {
   "cell_type": "markdown",
   "id": "477fb449",
   "metadata": {},
   "source": [
    "<b>Insight:-</b>\n",
    "* ie if you are investing 1000 dolars in TV it is increasing sales  value by 0.0437 ie 1 unit change increase the sales by 0.0437\n",
    "* if you are investing 1000 dolars in radio it will increase sales values by 0.19 ie \n",
    "* if you are investing 1000 dolars in radio it will decrease sales values by 0.04\n",
    "* ie the newspaper column is decreasing the sales by 0.04 and other columns are3 helping to increase the columns"
   ]
  },
  {
   "cell_type": "markdown",
   "id": "bbfc5cec",
   "metadata": {},
   "source": [
    "#### Manually running the algorithium by fitting the m and c values"
   ]
  },
  {
   "cell_type": "code",
   "execution_count": null,
   "id": "5bcb34fc",
   "metadata": {
    "scrolled": true
   },
   "outputs": [],
   "source": [
    "X1=100#TV\n",
    "X2=200#Radio\n",
    "X3=np.log1p(0)#Newspaper\n",
    "y_pred=3.353291385815149+(0.04374250157742166*X1)+(0.19303707897345304*X2)+( -0.048951368222487905*X3)\n",
    "print(y_pred)"
   ]
  },
  {
   "cell_type": "markdown",
   "id": "8973a06a",
   "metadata": {},
   "source": [
    "#### Here we are trying to predict the y_values with the help of x_values"
   ]
  },
  {
   "cell_type": "code",
   "execution_count": null,
   "id": "377ca67a",
   "metadata": {},
   "outputs": [],
   "source": [
    "Y_PRED=lm.predict(x_test)\n",
    "print(Y_PRED)"
   ]
  },
  {
   "cell_type": "markdown",
   "id": "b222331a",
   "metadata": {},
   "source": [
    "#### comparing the actual y values and the predicted y values"
   ]
  },
  {
   "cell_type": "code",
   "execution_count": null,
   "id": "c320aeef",
   "metadata": {
    "scrolled": false
   },
   "outputs": [],
   "source": [
    "new_df=pd.DataFrame()\n",
    "new_df=x_test.copy()\n",
    "new_df['Actual sales']=y_test\n",
    "new_df['Predicted sales']=Y_PRED\n",
    "new_df.head()"
   ]
  },
  {
   "cell_type": "markdown",
   "id": "2ce2ca25",
   "metadata": {},
   "source": [
    "#### Graph for the actual and predicted value"
   ]
  },
  {
   "cell_type": "code",
   "execution_count": null,
   "id": "203b4412",
   "metadata": {},
   "outputs": [],
   "source": [
    "new_df.reset_index(inplace=True)\n",
    "new_df['Actual sales'].plot()\n",
    "new_df['Predicted sales'].plot()\n",
    "plt.legend()"
   ]
  },
  {
   "cell_type": "markdown",
   "id": "d6e7d5c3",
   "metadata": {},
   "source": [
    "<b>insights</b>:- If you see the actual and the predicted sales values are going hand in hand"
   ]
  },
  {
   "cell_type": "markdown",
   "id": "ea84e227",
   "metadata": {},
   "source": [
    "<div id='Evaluating'><h4>Evaluating the model</h4></div>\n",
    "<h4>Checking the model performance</h4>"
   ]
  },
  {
   "cell_type": "code",
   "execution_count": null,
   "id": "30d820cd",
   "metadata": {},
   "outputs": [],
   "source": [
    "lm.score(x_test,y_test)"
   ]
  },
  {
   "cell_type": "markdown",
   "id": "8664246a",
   "metadata": {},
   "source": [
    "#### Errors"
   ]
  },
  {
   "cell_type": "markdown",
   "id": "1122700c",
   "metadata": {},
   "source": [
    "<img src=\"Images/ERROR.jpeg\" height=\"288\"  width=\"588\">"
   ]
  },
  {
   "cell_type": "markdown",
   "id": "b9836aa1",
   "metadata": {},
   "source": [
    "<img src=\"Images/ERROR2.jpeg\" height=\"288\"  width=\"588\">"
   ]
  },
  {
   "cell_type": "markdown",
   "id": "c57e9887",
   "metadata": {},
   "source": [
    "R2 AND ADJ R2"
   ]
  },
  {
   "cell_type": "markdown",
   "id": "6395983a",
   "metadata": {},
   "source": [
    "<img src=\"Images/RERROR.jpeg\" height=\"288\"  width=\"588\">"
   ]
  },
  {
   "cell_type": "markdown",
   "id": "899bb451",
   "metadata": {},
   "source": [
    "<img src=\"Images/REROR2.jpeg\" height=\"288\"  width=\"588\">"
   ]
  },
  {
   "cell_type": "markdown",
   "id": "53a4d072",
   "metadata": {},
   "source": [
    "AIC AND BIC"
   ]
  },
  {
   "cell_type": "markdown",
   "id": "aa98f017",
   "metadata": {},
   "source": [
    "<img src=\"Images/AIC.jpeg\" height=\"288\"  width=\"588\">"
   ]
  },
  {
   "cell_type": "markdown",
   "id": "ac02ced7",
   "metadata": {},
   "source": [
    "#### R squared , adj R squared , RMSE , AIC , BIC"
   ]
  },
  {
   "cell_type": "code",
   "execution_count": null,
   "id": "647b0d1a",
   "metadata": {},
   "outputs": [],
   "source": [
    "from sklearn.metrics import r2_score,mean_squared_error\n",
    "import numpy as np\n",
    " \n",
    "r2=r2_score(y_test,Y_PRED)\n",
    "print(\"R-squared:\",r2)\n",
    " \n",
    "rmse=np.sqrt(mean_squared_error(y_test,Y_PRED))\n",
    "print(\"RMSE:\",rmse)\n",
    " \n",
    "adjusted_r_squared = 1 - (1-r2)*(len(y)-1)/(len(y)-x.shape[1]-1)\n",
    "print(\"Adj R-square:\",adjusted_r_squared)"
   ]
  },
  {
   "cell_type": "markdown",
   "id": "1ddb59c8",
   "metadata": {},
   "source": [
    "even throught the newsapaper variable is bad but u cant see much difference between r_square and adj r2\n",
    "ie the newspaper variable is not much effecting the output"
   ]
  },
  {
   "cell_type": "markdown",
   "id": "728feb00",
   "metadata": {},
   "source": [
    "<div id='Durbin'><h4> durbin_watson</h4></div>"
   ]
  },
  {
   "cell_type": "code",
   "execution_count": null,
   "id": "532e9884",
   "metadata": {},
   "outputs": [],
   "source": [
    "from statsmodels.stats.stattools import durbin_watson\n",
    "gfg = durbin_watson(df)\n",
    "gfg"
   ]
  },
  {
   "cell_type": "code",
   "execution_count": null,
   "id": "8ee51e81",
   "metadata": {
    "scrolled": true
   },
   "outputs": [],
   "source": [
    "new_df['Deviation']=new_df['Actual sales']-new_df['Predicted sales']\n",
    "new_df.to_excel(\"Sales_prediction.xlsx\",header=True,index=True)\n",
    "new_df.head()"
   ]
  },
  {
   "cell_type": "markdown",
   "id": "39a4c530",
   "metadata": {},
   "source": [
    "<div id='Residual'><h4>checked using Residual v/s Fitted plot</h4></div> \n",
    "The error points shld be scattered and random"
   ]
  },
  {
   "cell_type": "code",
   "execution_count": null,
   "id": "f9bf22e5",
   "metadata": {
    "scrolled": true
   },
   "outputs": [],
   "source": [
    "#Assumption: Errors should be random\n",
    "#checked using Residual v/s Fitted plot\n",
    " \n",
    "import matplotlib.pyplot as plt\n",
    "plot_lm_1 = plt.figure(1)\n",
    "plot_lm_1.set_figheight(8)\n",
    "plot_lm_1.set_figwidth(12)\n",
    " \n",
    "# fitted values (need a constant term for intercept)\n",
    "model_fitted_y = lm_model.fittedvalues\n",
    " \n",
    "plot_lm_1.axes[0] = sns.residplot(model_fitted_y, 'sales', data=new_df, lowess=True)\n",
    " \n",
    "plot_lm_1.axes[0].set_title('Residuals vs Fitted')\n",
    "plot_lm_1.axes[0].set_xlabel('Fitted values')\n",
    "plot_lm_1.axes[0].set_ylabel('Residuals')"
   ]
  },
  {
   "cell_type": "markdown",
   "id": "223a93e1",
   "metadata": {},
   "source": [
    "<div id='approx'><h4>Errors should follow a approximate normal distribution</h4></div>"
   ]
  },
  {
   "cell_type": "code",
   "execution_count": null,
   "id": "e880583f",
   "metadata": {
    "scrolled": true
   },
   "outputs": [],
   "source": [
    "#Assumption: Errors should follow a approximate normal distribution\n",
    "#checked using Normal QQ plot\n",
    " \n",
    "res = lm_model.resid\n",
    "import statsmodels.api as stm\n",
    "import scipy.stats as stats\n",
    "fig = stm.qqplot(res,  fit=True, line='45')\n",
    "plt.title('Normal Q-Q')\n",
    "plt.xlabel('Theoretical Quantiles')\n",
    "plt.ylabel('Standardized Residuals')\n",
    "plt.show() "
   ]
  },
  {
   "cell_type": "markdown",
   "id": "5e66227a",
   "metadata": {},
   "source": [
    "The error points shld follow the red diagnol line to indicate that they follow a std normal distribution"
   ]
  },
  {
   "cell_type": "code",
   "execution_count": null,
   "id": "87b16200",
   "metadata": {},
   "outputs": [],
   "source": [
    "sns.distplot(res)"
   ]
  },
  {
   "cell_type": "markdown",
   "id": "ad9dd476",
   "metadata": {},
   "source": [
    "<h4 id=\"#variance\">Errors should follow a constant variance</h4>"
   ]
  },
  {
   "cell_type": "code",
   "execution_count": null,
   "id": "796ff23e",
   "metadata": {},
   "outputs": [],
   "source": [
    "#Assumption: Errors should follow a constant variance-->Homoskedasticity\n",
    "#checked using Scale location plot\n",
    " \n",
    "# normalized residuals\n",
    "model_norm_residuals = lm_model.get_influence().resid_studentized_internal\n",
    "# absolute squared normalized residuals\n",
    "model_norm_residuals_abs_sqrt = np.sqrt(np.abs(model_norm_residuals))\n",
    " \n",
    "plot_lm_3 = plt.figure(3)\n",
    "plot_lm_3.set_figheight(8)\n",
    "plot_lm_3.set_figwidth(12)\n",
    "plt.scatter(model_fitted_y, model_norm_residuals_abs_sqrt, alpha=0.5)\n",
    "sns.regplot(model_fitted_y, model_norm_residuals_abs_sqrt, lowess=True)\n",
    " \n",
    "\n",
    "plot_lm_3.axes[0].set_title('Scale-Location')\n",
    "plot_lm_3.axes[0].set_xlabel('Fitted values')\n",
    "plot_lm_3.axes[0].set_ylabel('$\\sqrt{|Standardized Residuals|}$')"
   ]
  },
  {
   "cell_type": "code",
   "execution_count": null,
   "id": "189002c8",
   "metadata": {
    "scrolled": true
   },
   "outputs": [],
   "source": [
    "sns.regplot(x=y_train,y=lm.predict(x_train),ci=95)\n",
    "#ci is condfiidence interval"
   ]
  },
  {
   "cell_type": "markdown",
   "id": "e12f9fa7",
   "metadata": {},
   "source": [
    "<div id='Tuning'> <h4>Tuning the model</h4></div>"
   ]
  },
  {
   "cell_type": "markdown",
   "id": "fd3054a3",
   "metadata": {},
   "source": [
    "<img src=\"Images/Tunning.jpeg\" height=\"288\"  width=\"588\">"
   ]
  },
  {
   "cell_type": "markdown",
   "id": "6db7f586",
   "metadata": {},
   "source": [
    "#### Ridge model"
   ]
  },
  {
   "cell_type": "code",
   "execution_count": null,
   "id": "d8e7d3c4",
   "metadata": {},
   "outputs": [],
   "source": [
    "from sklearn.linear_model import Ridge\n",
    "lm=Ridge()\n",
    "lm.fit(x_train,y_train)\n",
    "print(lm.intercept_)\n",
    "print(lm.coef_)\n",
    "\"\"\"\n",
    "3.353291385815149\n",
    "[ 0.0437425   0.19303708 -0.04895137]\n",
    "\"\"\""
   ]
  },
  {
   "cell_type": "code",
   "execution_count": null,
   "id": "9b74d1c5",
   "metadata": {},
   "outputs": [],
   "source": [
    "y_pred=lm.predict(x_test)"
   ]
  },
  {
   "cell_type": "code",
   "execution_count": null,
   "id": "02e1a06b",
   "metadata": {
    "scrolled": true
   },
   "outputs": [],
   "source": [
    "#Getting errors of Ridge\n",
    "from sklearn.metrics import r2_score,mean_squared_error\n",
    "import numpy as np\n",
    " \n",
    "r2=r2_score(y_test,Y_PRED)\n",
    "print(\"R-squared:\",r2)\n",
    " \n",
    "rmse=np.sqrt(mean_squared_error(y_test,Y_PRED))\n",
    "print(\"RMSE:\",rmse)\n",
    " \n",
    "adjusted_r_squared = 1 - (1-r2)*(len(y)-1)/(len(y)-x.shape[1]-1)\n",
    "print(\"Adj R-square:\",adjusted_r_squared)"
   ]
  },
  {
   "cell_type": "markdown",
   "id": "4c90b811",
   "metadata": {},
   "source": [
    "#### Lasso"
   ]
  },
  {
   "cell_type": "code",
   "execution_count": null,
   "id": "e9419131",
   "metadata": {
    "scrolled": true
   },
   "outputs": [],
   "source": [
    "from sklearn.linear_model import Lasso\n",
    "lm=Lasso()\n",
    "lm.fit(x_train,y_train)\n",
    "print(lm.intercept_)\n",
    "print(lm.coef_)\n",
    "\"\"\"\n",
    "3.353291385815149\n",
    "[ 0.0437425   0.19303708 -0.04895137]\n",
    "\"\"\""
   ]
  },
  {
   "cell_type": "code",
   "execution_count": null,
   "id": "ecb9d412",
   "metadata": {},
   "outputs": [],
   "source": [
    "y_pred=lm.predict(x_test)"
   ]
  },
  {
   "cell_type": "code",
   "execution_count": null,
   "id": "d032cf2c",
   "metadata": {},
   "outputs": [],
   "source": [
    "#Error\n",
    "from sklearn.metrics import r2_score,mean_squared_error\n",
    "import numpy as np\n",
    " \n",
    "r2=r2_score(y_test,y_pred)\n",
    "print(\"R-squared:\",r2)\n",
    " \n",
    "rmse=np.sqrt(mean_squared_error(y_test,y_pred))\n",
    "print(\"RMSE:\",rmse)\n",
    " \n",
    "adjusted_r_squared = 1 - (1-r2)*(len(y)-1)/(len(y)-x.shape[1]-1)\n",
    "print(\"Adj R-square:\",adjusted_r_squared)"
   ]
  },
  {
   "cell_type": "markdown",
   "id": "ac82479a",
   "metadata": {},
   "source": [
    "hence we can conclude df with newpaper would be a better a model"
   ]
  },
  {
   "cell_type": "markdown",
   "id": "67e69801",
   "metadata": {},
   "source": [
    "<div id='statsmodule'>Linear regression using statsmodule</div>"
   ]
  },
  {
   "cell_type": "markdown",
   "id": "ad95fa6f",
   "metadata": {},
   "source": [
    "* Two modules one is the upper case ols and second is the lower case ols\n",
    "* OLS--->OLS(Y_TRAIN,X_TRAIN)\n",
    "* ols-->ols(Y~X1+X2+X3)\n",
    "* we are gonna have a look on the lower case ols"
   ]
  },
  {
   "cell_type": "code",
   "execution_count": null,
   "id": "0f901679",
   "metadata": {},
   "outputs": [],
   "source": [
    "new_df=pd.DataFrame()\n",
    "new_df=x_train.copy()\n",
    "new_df['sales']=y_train.copy()\n",
    "new_df.shape"
   ]
  },
  {
   "cell_type": "code",
   "execution_count": null,
   "id": "e004077e",
   "metadata": {},
   "outputs": [],
   "source": [
    "#ols with newspaper\n",
    "import statsmodels.formula.api as sm\n",
    "lm_model=sm.ols(formula='sales ~ TV + radio + newspaper',data=new_df).fit()\n",
    "print(lm_model.params)\n",
    "print(lm_model.summary())"
   ]
  },
  {
   "cell_type": "code",
   "execution_count": null,
   "id": "d9c03c0c",
   "metadata": {},
   "outputs": [],
   "source": [
    "y_pred_new=lm_model.predict(x_test)"
   ]
  },
  {
   "cell_type": "code",
   "execution_count": null,
   "id": "fc6ebb60",
   "metadata": {
    "scrolled": true
   },
   "outputs": [],
   "source": [
    "#ols without newspaper\n",
    "import statsmodels.formula.api as sm\n",
    "lm_model=sm.ols(formula='sales ~ TV + radio ',data=new_df).fit()\n",
    "print(lm_model.params)\n",
    "print(lm_model.summary())"
   ]
  },
  {
   "cell_type": "markdown",
   "id": "cccb4f2e",
   "metadata": {},
   "source": [
    "AIC:- data changing algo same\n",
    "BIC:-Data changing"
   ]
  },
  {
   "cell_type": "markdown",
   "id": "e975880f",
   "metadata": {},
   "source": [
    "<pre>\n",
    "<b>Note</b>:- A linear regression does not have any hyper-parameters\n",
    "<b>Conclusion</b>:-Linear regression is simple, easy to fit, easy to understand, yet a very powerful model.\n",
    "</pre>"
   ]
  },
  {
   "cell_type": "markdown",
   "id": "7793f76e",
   "metadata": {},
   "source": [
    "<pre>\n",
    "<b>Pollynomial_features</b>:-when there is no Lnear relation between x and y variable.\n",
    "<b>Bayesian regression</b>:-when the sample set is small and you have a domain knownledge.\n",
    "<b>poisson regression</b>:-\n",
    "<b>Lazy Regression</b>:-We get the base model and ttheir score\n",
    "</pre>"
   ]
  }
 ],
 "metadata": {
  "kernelspec": {
   "display_name": "Python 3 (ipykernel)",
   "language": "python",
   "name": "python3"
  },
  "language_info": {
   "codemirror_mode": {
    "name": "ipython",
    "version": 3
   },
   "file_extension": ".py",
   "mimetype": "text/x-python",
   "name": "python",
   "nbconvert_exporter": "python",
   "pygments_lexer": "ipython3",
   "version": "3.9.12"
  }
 },
 "nbformat": 4,
 "nbformat_minor": 5
}
