{
 "cells": [
  {
   "cell_type": "markdown",
   "id": "3e7f973a",
   "metadata": {},
   "source": [
    "<b>Types of Linear Regression</b>\n",
    "* <b>Simple Linear Regression</b>: This type of regression models the relationship between a dependent variable and a single independent variable.\n",
    "* <b>Multiple Linear Regression</b>: This type of regression models the relationship between a dependent variable and multiple independent variables.\n",
    "<div style='color:red;'>Use:-Simple,Multiple Linear Regression both used for Linearly Seprable data</div>\n",
    "* <b>Polynomial Regression</b>: This type of regression models the relationship between a dependent variable and a single independent variable, but with a non-linear relationship that is modeled using polynomial functions.\n",
    "<div style='color:red;'>Use:-Polynomial Regression used for Non linearily seprable data</div>\n",
    "* <b>Logistic Regression</b>: This type of regression is used for binary classification problems, where the goal is to predict one of two outcomes.\n",
    "<div style='color:red;'>Use:-Logistic Regression used for binary classification</div>\n",
    "* <b>Ordinal Regression</b>: This type of regression is used for ordinal classification problems, where the goal is to predict an ordered categorical variable.\n",
    "<div style='color:red;'>Use:-Ordinal Regression used where the goal is to predict an ordered categorical variable.\n",
    "<div style='color:blue;'>Example :- A movie rating website wants to predict the rating of a movie where the ratings are ordinal categories (e.g., 1-star, 2-star, 3-star, etc.).</div>\n",
    "* <b>Poisson Regression</b>: This type of regression is used for count data, where the goal is to model the relationship between a count dependent variable and independent variables.\n",
    "<div style='color:red;'>Use:-Poisson Regression is used when the target variable is count data </div>\n",
    "<div style='color:blue;'>Example:-A dataset that includes the number of products sold by a company, along with information such as the time of day, location, and marketing efforts.</div>\n",
    "* <b>Ridge Regression</b>: This type of regression is a regularized form of multiple linear regression, which adds a penalty term to the cost function to prevent overfitting.\n",
    "\n",
    "* <b>Lasso Regression</b>: This type of regression is another regularized form of multiple linear regression, which adds a penalty term to the cost function to enforce sparse solutions and select a subset of important features.\n",
    "\n",
    "* <b>Elastic Net Regression</b>: This type of regression is a combination of Ridge and Lasso regression, which balances the strengths of both methods to produce a well-rounded solution.\n",
    "<div style='color:red;'>Use:-Ridge , Lasso , Elastic Net Regression above are just regularization technique used for feature selection</div>\n",
    "* <b>Bayesian Linear Regression</b>: This type of regression is a probabilistic form of linear regression, where the parameters of the model are treated as random variables with prior distributions.\n",
    "<div style='color:red;'>Use:-Bayesian Linear Regression is used when we have some prior knowledge about the parameters</div>\n",
    "<div style='color:Blue;'>Example:-A climate scientist wants to model the relationship between atmospheric carbon dioxide levels and global temperatures, where there is uncertainty about the parameters of the model and prior knowledge or beliefs about the parameters should be incorporated into the analysis. Bayesian linear regression could be used to incorporate this prior knowledge and quantify the uncertainty of the parameters.</div>"
   ]
  }
 ],
 "metadata": {
  "kernelspec": {
   "display_name": "Python 3 (ipykernel)",
   "language": "python",
   "name": "python3"
  },
  "language_info": {
   "codemirror_mode": {
    "name": "ipython",
    "version": 3
   },
   "file_extension": ".py",
   "mimetype": "text/x-python",
   "name": "python",
   "nbconvert_exporter": "python",
   "pygments_lexer": "ipython3",
   "version": "3.9.12"
  }
 },
 "nbformat": 4,
 "nbformat_minor": 5
}
