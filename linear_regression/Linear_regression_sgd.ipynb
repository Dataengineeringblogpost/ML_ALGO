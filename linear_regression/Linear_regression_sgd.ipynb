{
 "cells": [
  {
   "cell_type": "markdown",
   "id": "fa6fe4db",
   "metadata": {},
   "source": [
    "<h4>import modules</h4>"
   ]
  },
  {
   "cell_type": "code",
   "execution_count": 2,
   "id": "24a26666",
   "metadata": {},
   "outputs": [],
   "source": [
    "import numpy as np\n",
    "import matplotlib.pyplot as plt\n",
    "import seaborn as sns\n",
    "import pandas as pd "
   ]
  },
  {
   "cell_type": "markdown",
   "id": "4648519a",
   "metadata": {},
   "source": [
    "#### Creating A DataFrame"
   ]
  },
  {
   "cell_type": "code",
   "execution_count": 3,
   "id": "df68655a",
   "metadata": {},
   "outputs": [
    {
     "data": {
      "text/html": [
       "<div>\n",
       "<style scoped>\n",
       "    .dataframe tbody tr th:only-of-type {\n",
       "        vertical-align: middle;\n",
       "    }\n",
       "\n",
       "    .dataframe tbody tr th {\n",
       "        vertical-align: top;\n",
       "    }\n",
       "\n",
       "    .dataframe thead th {\n",
       "        text-align: right;\n",
       "    }\n",
       "</style>\n",
       "<table border=\"1\" class=\"dataframe\">\n",
       "  <thead>\n",
       "    <tr style=\"text-align: right;\">\n",
       "      <th></th>\n",
       "      <th>TV</th>\n",
       "      <th>radio</th>\n",
       "      <th>newspaper</th>\n",
       "      <th>sales</th>\n",
       "    </tr>\n",
       "  </thead>\n",
       "  <tbody>\n",
       "    <tr>\n",
       "      <th>1</th>\n",
       "      <td>230.1</td>\n",
       "      <td>37.8</td>\n",
       "      <td>69.2</td>\n",
       "      <td>22.1</td>\n",
       "    </tr>\n",
       "    <tr>\n",
       "      <th>2</th>\n",
       "      <td>44.5</td>\n",
       "      <td>39.3</td>\n",
       "      <td>45.1</td>\n",
       "      <td>10.4</td>\n",
       "    </tr>\n",
       "    <tr>\n",
       "      <th>3</th>\n",
       "      <td>17.2</td>\n",
       "      <td>45.9</td>\n",
       "      <td>69.3</td>\n",
       "      <td>9.3</td>\n",
       "    </tr>\n",
       "    <tr>\n",
       "      <th>4</th>\n",
       "      <td>151.5</td>\n",
       "      <td>41.3</td>\n",
       "      <td>58.5</td>\n",
       "      <td>18.5</td>\n",
       "    </tr>\n",
       "    <tr>\n",
       "      <th>5</th>\n",
       "      <td>180.8</td>\n",
       "      <td>10.8</td>\n",
       "      <td>58.4</td>\n",
       "      <td>12.9</td>\n",
       "    </tr>\n",
       "  </tbody>\n",
       "</table>\n",
       "</div>"
      ],
      "text/plain": [
       "      TV  radio  newspaper  sales\n",
       "1  230.1   37.8       69.2   22.1\n",
       "2   44.5   39.3       45.1   10.4\n",
       "3   17.2   45.9       69.3    9.3\n",
       "4  151.5   41.3       58.5   18.5\n",
       "5  180.8   10.8       58.4   12.9"
      ]
     },
     "execution_count": 3,
     "metadata": {},
     "output_type": "execute_result"
    }
   ],
   "source": [
    "df=pd.read_csv(r\"Advertising.csv\",index_col=0)\n",
    "df.head()"
   ]
  },
  {
   "cell_type": "markdown",
   "id": "2d40e81e",
   "metadata": {},
   "source": [
    "<b>Insights</b>:-We will just start with sgd as the data is allready filtered."
   ]
  },
  {
   "cell_type": "markdown",
   "id": "81f2a22d",
   "metadata": {},
   "source": [
    "#### Seprating x and y Column"
   ]
  },
  {
   "cell_type": "code",
   "execution_count": 4,
   "id": "7ce23733",
   "metadata": {},
   "outputs": [],
   "source": [
    "x=df[['TV','radio','newspaper']]\n",
    "y=df['sales']"
   ]
  },
  {
   "cell_type": "markdown",
   "id": "9e7daccd",
   "metadata": {},
   "source": [
    "#### Scale the data"
   ]
  },
  {
   "cell_type": "code",
   "execution_count": 5,
   "id": "d82ce91c",
   "metadata": {},
   "outputs": [],
   "source": [
    "from sklearn.preprocessing import StandardScaler\n",
    "scaler=StandardScaler()\n",
    "x=scaler.fit_transform(x)"
   ]
  },
  {
   "cell_type": "markdown",
   "id": "25027bed",
   "metadata": {},
   "source": [
    "#### Splitting the data (80%-20%)\n",
    "* 80:-Training data\n",
    "* 20:-test data"
   ]
  },
  {
   "cell_type": "code",
   "execution_count": 6,
   "id": "047a7782",
   "metadata": {},
   "outputs": [
    {
     "name": "stdout",
     "output_type": "stream",
     "text": [
      "(160, 3)\n",
      "(160,)\n",
      "(40, 3)\n",
      "(40,)\n"
     ]
    }
   ],
   "source": [
    "#We are spliting the data into train and test split\n",
    "#Here the test size is 0.2 ie training has 80% data and testing has 20% data \n",
    "from sklearn.model_selection import  train_test_split\n",
    "x_train,x_test,y_train,y_test=train_test_split(x,y,test_size=0.2,random_state=10)\n",
    "print(x_train.shape)\n",
    "print(y_train.shape)\n",
    "print(x_test.shape)\n",
    "print(y_test.shape)"
   ]
  },
  {
   "cell_type": "markdown",
   "id": "82dc7952",
   "metadata": {},
   "source": [
    "#### Creating a sgd Model"
   ]
  },
  {
   "cell_type": "code",
   "execution_count": 7,
   "id": "300a2bd1",
   "metadata": {
    "scrolled": true
   },
   "outputs": [
    {
     "name": "stdout",
     "output_type": "stream",
     "text": [
      "[13.83540781]\n",
      "[ 2.96722679  2.98503017 -0.10325843]\n"
     ]
    }
   ],
   "source": [
    "from sklearn.linear_model import SGDRegressor\n",
    " \n",
    "lm = SGDRegressor(learning_rate=\"constant\",  \n",
    "                  #want to use a constant learning rate\n",
    "                  eta0=0.1,  #alpha\n",
    "                  shuffle=True, \n",
    "        #while going ahead with the next epoch shuffle the obs\n",
    "                  random_state=10, #set seed\n",
    "                  max_iter=1000, #max no of epochs\n",
    "                  early_stopping=True, \n",
    "                  #stop if zero convergence is reached first\n",
    "                  n_iter_no_change=5) \n",
    "        #no of obs to wait for before concluding upon early stopping\n",
    "lm.fit(x_train,y_train)\n",
    " \n",
    " \n",
    "# print intercept and coefficients\n",
    "print (lm.intercept_)\n",
    "print (lm.coef_)"
   ]
  },
  {
   "cell_type": "markdown",
   "id": "dbb87215",
   "metadata": {},
   "source": [
    "#### Predicting the score"
   ]
  },
  {
   "cell_type": "code",
   "execution_count": 8,
   "id": "835496d6",
   "metadata": {
    "scrolled": true
   },
   "outputs": [
    {
     "data": {
      "text/plain": [
       "0.7851184362823995"
      ]
     },
     "execution_count": 8,
     "metadata": {},
     "output_type": "execute_result"
    }
   ],
   "source": [
    "y_pred_new=lm.predict(x_test)\n",
    "lm.score(x_test,y_test)"
   ]
  },
  {
   "cell_type": "markdown",
   "id": "eeff50ef",
   "metadata": {},
   "source": [
    "#### Error"
   ]
  },
  {
   "cell_type": "code",
   "execution_count": 9,
   "id": "da09df5d",
   "metadata": {},
   "outputs": [
    {
     "name": "stdout",
     "output_type": "stream",
     "text": [
      "R-squared: 0.7851184362823995\n",
      "RMSE: 2.9572947684786306\n",
      "Adj R-square: 0.7818294327561097\n"
     ]
    }
   ],
   "source": [
    "from sklearn.metrics import r2_score,mean_squared_error\n",
    "import numpy as np\n",
    " \n",
    "r2=r2_score(y_test,y_pred_new)\n",
    "print(\"R-squared:\",r2)\n",
    " \n",
    "rmse=np.sqrt(mean_squared_error(y_test,y_pred_new))\n",
    "print(\"RMSE:\",rmse)\n",
    " \n",
    "adjusted_r_squared = 1 - (1-r2)*(len(y)-1)/(len(y)-x.shape[1]-1)\n",
    "print(\"Adj R-square:\",adjusted_r_squared)"
   ]
  },
  {
   "cell_type": "markdown",
   "id": "58d48876",
   "metadata": {},
   "source": [
    "#### Hyper-parameters Tunning "
   ]
  },
  {
   "cell_type": "code",
   "execution_count": 10,
   "id": "eb2518ac",
   "metadata": {},
   "outputs": [
    {
     "name": "stdout",
     "output_type": "stream",
     "text": [
      "{0.1: 0.7851184362823995, 0.01: 0.8342925233113334, 0.001: 0.8389207201202611, 0.0001: 0.8276959865003775}\n"
     ]
    },
    {
     "name": "stderr",
     "output_type": "stream",
     "text": [
      "C:\\Users\\karth\\AppData\\Local\\Temp\\ipykernel_24096\\1004079419.py:31: UserWarning: color is redundantly defined by the 'color' keyword argument and the fmt string \"rs-\" (-> color='r'). The keyword argument will take precedence.\n",
      "  plt.plot(et_list,score,\"rs-\",color='red')\n"
     ]
    },
    {
     "data": {
      "image/png": "[encoded data removed]",
      "text/plain": [
       "<Figure size 720x720 with 1 Axes>"
      ]
     },
     "metadata": {
      "needs_background": "light"
     },
     "output_type": "display_data"
    }
   ],
   "source": [
    "#Tunning Learning rate ie alpha\n",
    "from sklearn.linear_model import SGDRegressor\n",
    "score=[]\n",
    "et_list=[]\n",
    "eta={}\n",
    "et=0.1\n",
    "for e in range(0,4): \n",
    "    lm = SGDRegressor(learning_rate=\"constant\",  \n",
    "                      #want to use a constant learning rate\n",
    "                      eta0=et,  #alpha\n",
    "                      shuffle=True, \n",
    "            #while going ahead with the next epoch shuffle the obs\n",
    "                      random_state=10, #set seed\n",
    "                      max_iter=1000, #max no of epochs\n",
    "                      early_stopping=True, \n",
    "                      #stop if zero convergence is reached first\n",
    "                      n_iter_no_change=5) \n",
    "            #no of obs to wait for before concluding upon early stopping\n",
    "    lm.fit(x_train,y_train)\n",
    "    sc=lm.score(x_test,y_test)\n",
    "    score.append(sc)\n",
    "    et_list.append(et)\n",
    "    eta[et]=sc\n",
    "    et=et/10\n",
    "    \n",
    "#     print(et)\n",
    "print(eta)\n",
    "plt.figure(figsize=(10,10))\n",
    "\n",
    "\n",
    "plt.plot(et_list,score,\"rs-\",color='red')\n",
    "plt.xticks(et_list)\n",
    "plt.yticks([0.5,0.75,1])\n",
    "plt.show()\n",
    "#learning rate=0.001"
   ]
  },
  {
   "cell_type": "code",
   "execution_count": null,
   "id": "f076088d",
   "metadata": {},
   "outputs": [],
   "source": []
  },
  {
   "cell_type": "code",
   "execution_count": 15,
   "id": "12b05b48",
   "metadata": {},
   "outputs": [
    {
     "name": "stdout",
     "output_type": "stream",
     "text": [
      "{100: 0.8342925233113334, 400: 0.8342925233113334, 1600: 0.8342925233113334, 6400: 0.8342925233113334}\n"
     ]
    },
    {
     "name": "stderr",
     "output_type": "stream",
     "text": [
      "C:\\Users\\karth\\AppData\\Local\\Temp\\ipykernel_24096\\1379480575.py:32: UserWarning: color is redundantly defined by the 'color' keyword argument and the fmt string \"rs-\" (-> color='r'). The keyword argument will take precedence.\n",
      "  plt.plot(et_list,score,\"rs-\",color='red')\n"
     ]
    },
    {
     "data": {
      "image/png": "[encoded data removed]",
      "text/plain": [
       "<Figure size 720x720 with 1 Axes>"
      ]
     },
     "metadata": {
      "needs_background": "light"
     },
     "output_type": "display_data"
    }
   ],
   "source": [
    "#Tunning Learning rate ie alpha\n",
    "from sklearn.linear_model import SGDRegressor\n",
    "score=[]\n",
    "et_list=[]\n",
    "eta={}\n",
    "et=100\n",
    "for e in range(0,4): \n",
    "    lm = SGDRegressor(learning_rate=\"constant\",  \n",
    "                      #want to use a constant learning rate\n",
    "                      eta0=0.01,  #alpha\n",
    "                      shuffle=True, \n",
    "            #while going ahead with the next epoch shuffle the obs\n",
    "                      random_state=10, #set seed\n",
    "                      max_iter=et, #max no of epochs\n",
    "                      early_stopping=True, \n",
    "                      #stop if zero convergence is reached first\n",
    "                      n_iter_no_change=5) \n",
    "            #no of obs to wait for before concluding upon early stopping\n",
    "  \n",
    "    lm.fit(x_train,y_train)\n",
    "    sc=lm.score(x_test,y_test)\n",
    "    score.append(sc)\n",
    "    et_list.append(et)\n",
    "    eta[et]=sc\n",
    "    et=et*4\n",
    "    \n",
    "#     print(et)\n",
    "print(eta)\n",
    "plt.figure(figsize=(10,10))\n",
    "\n",
    "\n",
    "plt.plot(et_list,score,\"rs-\",color='red')\n",
    "plt.xticks(et_list)\n",
    "plt.yticks([0.5,0.75,1])\n",
    "plt.show()\n",
    "#max_epoch=1000"
   ]
  },
  {
   "cell_type": "code",
   "execution_count": 17,
   "id": "d247dc8b",
   "metadata": {},
   "outputs": [
    {
     "name": "stdout",
     "output_type": "stream",
     "text": [
      "{5: 0.8342925233113334, 7: 0.8395559849007264, 9: 0.8381481046216059, 11: 0.8393364296548529, 13: 0.8356502403462608, 15: 0.8412539996908259, 17: 0.8402479647730056, 19: 0.8395428400550099, 21: 0.8376126973499658, 23: 0.8381136049706341, 25: 0.841485615934729, 27: 0.8448082239552911, 29: 0.8361083888945129, 31: 0.8340045547328462, 33: 0.841160191136789, 35: 0.8414110193036587, 37: 0.8394355509825533, 39: 0.8374247583437112, 41: 0.8408911504354647, 43: 0.8402733135396017, 45: 0.8399011224406803, 47: 0.8363331532578683, 49: 0.8370223894852797, 51: 0.8373335335297777, 53: 0.8376124821842765, 55: 0.8380438081085237, 57: 0.8380270271613437, 59: 0.8383290516324208, 61: 0.8388995183053832, 63: 0.8394129202291778, 65: 0.83630775332777, 67: 0.8427907759570872, 69: 0.8423208891782921, 71: 0.8359819721212964, 73: 0.8397880751580254, 75: 0.8395564375518324, 77: 0.8391865431527381, 79: 0.8384564841410308, 81: 0.8373651988470562, 83: 0.8413425465543389}\n"
     ]
    },
    {
     "name": "stderr",
     "output_type": "stream",
     "text": [
      "C:\\Users\\karth\\AppData\\Local\\Temp\\ipykernel_24096\\2906602556.py:32: UserWarning: color is redundantly defined by the 'color' keyword argument and the fmt string \"rs-\" (-> color='r'). The keyword argument will take precedence.\n",
      "  plt.plot(et_list,score,\"rs-\",color='red')\n"
     ]
    },
    {
     "data": {
      "image/png": "[encoded data removed]",
      "text/plain": [
       "<Figure size 720x720 with 1 Axes>"
      ]
     },
     "metadata": {
      "needs_background": "light"
     },
     "output_type": "display_data"
    }
   ],
   "source": [
    "#Tunning Learning rate ie alpha\n",
    "from sklearn.linear_model import SGDRegressor\n",
    "score=[]\n",
    "et_list=[]\n",
    "eta={}\n",
    "et=5\n",
    "for e in range(0,40): \n",
    "    lm = SGDRegressor(learning_rate=\"constant\",  \n",
    "                      #want to use a constant learning rate\n",
    "                      eta0=0.01,  #alpha\n",
    "                      shuffle=True, \n",
    "            #while going ahead with the next epoch shuffle the obs\n",
    "                      random_state=10, #set seed\n",
    "                      max_iter=1000, #max no of epochs\n",
    "                      early_stopping=True, \n",
    "                      #stop if zero convergence is reached first\n",
    "                      n_iter_no_change=et) \n",
    "            #no of obs to wait for before concluding upon early stopping\n",
    "  \n",
    "    lm.fit(x_train,y_train)\n",
    "    sc=lm.score(x_test,y_test)\n",
    "    score.append(sc)\n",
    "    et_list.append(et)\n",
    "    eta[et]=sc\n",
    "    et=et+2\n",
    "    \n",
    "#     print(et)\n",
    "print(eta)\n",
    "plt.figure(figsize=(10,10))\n",
    "\n",
    "\n",
    "plt.plot(et_list,score,\"rs-\",color='red')\n",
    "plt.xticks(et_list)\n",
    "plt.yticks([0.5,0.75,1])\n",
    "plt.show()\n",
    "#n_iter_no_change=27"
   ]
  },
  {
   "cell_type": "code",
   "execution_count": 20,
   "id": "7128ec4b",
   "metadata": {},
   "outputs": [
    {
     "name": "stdout",
     "output_type": "stream",
     "text": [
      "[14.04849688]\n",
      "[ 3.77891444  2.84936312 -0.04083345]\n"
     ]
    }
   ],
   "source": [
    "from sklearn.linear_model import SGDRegressor\n",
    " \n",
    "lm = SGDRegressor(learning_rate=\"constant\",  \n",
    "                  #want to use a constant learning rate\n",
    "                  eta0=0.001,  #alpha\n",
    "                  shuffle=True, \n",
    "        #while going ahead with the next epoch shuffle the obs\n",
    "                  random_state=10, #set seed\n",
    "                  max_iter=1000, #max no of epochs\n",
    "                  early_stopping=True, \n",
    "                  #stop if zero convergence is reached first\n",
    "                  n_iter_no_change=27) \n",
    "        #no of obs to wait for before concluding upon early stopping\n",
    "lm.fit(x_train,y_train)\n",
    " \n",
    " \n",
    "# print intercept and coefficients\n",
    "print (lm.intercept_)\n",
    "print (lm.coef_)"
   ]
  },
  {
   "cell_type": "code",
   "execution_count": 21,
   "id": "46f8d5b5",
   "metadata": {},
   "outputs": [
    {
     "data": {
      "text/plain": [
       "0.8384827236538027"
      ]
     },
     "execution_count": 21,
     "metadata": {},
     "output_type": "execute_result"
    }
   ],
   "source": [
    "y_pred_new=lm.predict(x_test)\n",
    "lm.score(x_test,y_test)"
   ]
  },
  {
   "cell_type": "code",
   "execution_count": 22,
   "id": "44057da7",
   "metadata": {},
   "outputs": [
    {
     "name": "stdout",
     "output_type": "stream",
     "text": [
      "R-squared: 0.8384827236538027\n",
      "RMSE: 2.563920344101336\n",
      "Adj R-square: 0.8360105204444221\n"
     ]
    }
   ],
   "source": [
    "from sklearn.metrics import r2_score,mean_squared_error\n",
    "import numpy as np\n",
    " \n",
    "r2=r2_score(y_test,y_pred_new)\n",
    "print(\"R-squared:\",r2)\n",
    " \n",
    "rmse=np.sqrt(mean_squared_error(y_test,y_pred_new))\n",
    "print(\"RMSE:\",rmse)\n",
    " \n",
    "adjusted_r_squared = 1 - (1-r2)*(len(y)-1)/(len(y)-x.shape[1]-1)\n",
    "print(\"Adj R-square:\",adjusted_r_squared)"
   ]
  },
  {
   "cell_type": "markdown",
   "id": "5fa0c1aa",
   "metadata": {},
   "source": [
    "So after tunning the Hyper Parameters we make our Rsquared from 0.78 to 0.83"
   ]
  }
 ],
 "metadata": {
  "kernelspec": {
   "display_name": "Python 3 (ipykernel)",
   "language": "python",
   "name": "python3"
  },
  "language_info": {
   "codemirror_mode": {
    "name": "ipython",
    "version": 3
   },
   "file_extension": ".py",
   "mimetype": "text/x-python",
   "name": "python",
   "nbconvert_exporter": "python",
   "pygments_lexer": "ipython3",
   "version": "3.9.12"
  }
 },
 "nbformat": 4,
 "nbformat_minor": 5
}
